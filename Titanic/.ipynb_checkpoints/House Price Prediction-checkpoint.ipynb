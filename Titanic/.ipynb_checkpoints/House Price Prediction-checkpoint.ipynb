{
 "cells": [
  {
   "cell_type": "markdown",
   "id": "b00ec790",
   "metadata": {},
   "source": [
    "## CA House Price Prediction "
   ]
  },
  {
   "cell_type": "markdown",
   "id": "87c66b32",
   "metadata": {},
   "source": [
    "Steps to follow :\n",
    "\n",
    "Define business object\n",
    "\n",
    "Make sense of the data from a high level\n",
    "\n",
    "data types (number, text, object, etc.)continuous/discrete\n",
    "\n",
    "basic stats (min, max, std, median, etc.) using boxplot\n",
    "\n",
    "frequency via histogram\n",
    "\n",
    "scales and distributions of different features\n",
    "\n",
    "Create the traning and test sets using proper sampling methods, e.g., random vs. stratified\n",
    "\n",
    "Correlation analysis (pair-wise and attribute combinations)\n",
    "\n",
    "Data cleaning (missing data, outliers, data errors)\n",
    "\n",
    "Data transformation via pipelines (categorical text to number using one hot encoding, feature scaling via normalization/standardization, feature combinations)\n",
    "\n",
    "Train and cross validate different models and select the most promising one (Linear Regression, Decision Tree, and Random Forest were tried in this tutorial)\n",
    "\n",
    "Fine tune the model using trying different combinations of hyperparameters\n",
    "\n",
    "Evaluate the model with best estimators in the test set"
   ]
  },
  {
   "cell_type": "code",
   "execution_count": 1,
   "id": "533ae51a",
   "metadata": {},
   "outputs": [
    {
     "data": {
      "text/plain": [
       "'C:\\\\Users\\\\Pranav\\\\Upgrad\\\\UpKh_Python\\\\ML Practise\\\\Titanic'"
      ]
     },
     "execution_count": 1,
     "metadata": {},
     "output_type": "execute_result"
    }
   ],
   "source": [
    "pwd()"
   ]
  },
  {
   "cell_type": "code",
   "execution_count": null,
   "id": "831f327c",
   "metadata": {},
   "outputs": [],
   "source": []
  },
  {
   "cell_type": "code",
   "execution_count": null,
   "id": "b741b419",
   "metadata": {},
   "outputs": [],
   "source": []
  }
 ],
 "metadata": {
  "kernelspec": {
   "display_name": "Python 3 (ipykernel)",
   "language": "python",
   "name": "python3"
  },
  "language_info": {
   "codemirror_mode": {
    "name": "ipython",
    "version": 3
   },
   "file_extension": ".py",
   "mimetype": "text/x-python",
   "name": "python",
   "nbconvert_exporter": "python",
   "pygments_lexer": "ipython3",
   "version": "3.9.7"
  }
 },
 "nbformat": 4,
 "nbformat_minor": 5
}
